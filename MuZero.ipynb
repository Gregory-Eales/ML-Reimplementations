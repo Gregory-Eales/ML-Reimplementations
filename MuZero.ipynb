{
  "nbformat": 4,
  "nbformat_minor": 0,
  "metadata": {
    "colab": {
      "name": "MuZero",
      "provenance": [],
      "collapsed_sections": [],
      "include_colab_link": true
    },
    "kernelspec": {
      "name": "python3",
      "display_name": "Python 3"
    }
  },
  "cells": [
    {
      "cell_type": "markdown",
      "metadata": {
        "id": "view-in-github",
        "colab_type": "text"
      },
      "source": [
        "<a href=\"https://colab.research.google.com/github/Gregory-Eales/ML-Reimplementations/blob/master/MuZero.ipynb\" target=\"_parent\"><img src=\"https://colab.research.google.com/assets/colab-badge.svg\" alt=\"Open In Colab\"/></a>"
      ]
    },
    {
      "cell_type": "code",
      "metadata": {
        "id": "alH5Cnm2NXx2",
        "colab_type": "code",
        "colab": {}
      },
      "source": [
        "import torch\n",
        "import numpy as np"
      ],
      "execution_count": 0,
      "outputs": []
    },
    {
      "cell_type": "code",
      "metadata": {
        "id": "e-rqVrHBNmlI",
        "colab_type": "code",
        "colab": {}
      },
      "source": [
        "class TicTacToe(object):\n",
        "\n",
        "    def __init__(self, dim=3):\n",
        "\n",
        "        self.dim = dim\n",
        "        self.board = self.init_board()\n",
        "\n",
        "        self.horizontal = np.ones([1, dim])\n",
        "        self.veritcal = np.ones([dim, 1])\n",
        "        self.diag_left = np.flip(np.diag(np.ones([dim])), 1)\n",
        "        self.diag_right = np.diag(np.ones([dim]))\n",
        "\n",
        "        self.turn = \"X\"\n",
        "\n",
        "    def act(self, action):\n",
        "        \n",
        "        \n",
        "        if self.turn == \"X\":\n",
        "            self.board[action//self.dim][action%self.dim] = 1\n",
        "            return self.board\n",
        "\n",
        "        if self.turn == \"O\":\n",
        "            self.board[action//self.dim][action%self.dim] = -1\n",
        "            return self.board\n",
        "\n",
        "\n",
        "    def init_board(self):\n",
        "        return np.zeros([self.dim, self.dim])\n",
        "\n",
        "    def reset_board(self):\n",
        "        self.board = self.init_board()\n",
        "\n",
        "    def check_horizontal(self):\n",
        "        pass\n",
        "    \n",
        "    def check_vertical(self):\n",
        "        pass\n",
        "\n",
        "    def check_diagonal(self):\n",
        "        pass\n",
        "\n",
        "    def check_winner(self):\n",
        "        pass"
      ],
      "execution_count": 0,
      "outputs": []
    },
    {
      "cell_type": "code",
      "metadata": {
        "colab_type": "code",
        "id": "9CF0aFDSTq1I",
        "colab": {}
      },
      "source": [
        "class ValueNetwork(torch.nn.Module):\n",
        "\n",
        "    def __init__(self, in_dim=3, out_dim=3, num_channel=3, kernal_size=2):\n",
        "        super(ValueNetwork, self).__init__()\n",
        "\n",
        "        self.in_dim = in_dim\n",
        "        self.out_dim = out_dim\n",
        "        self.num_channel = num_channel\n",
        "\n",
        "        self.define_network()\n",
        "\n",
        "        cuda = \"cuda:0\"\n",
        "        cpu = \"cpu:0\"\n",
        "        self.device = torch.device(cuda if torch.cuda.is_available() else cpu)\n",
        "        self.to(self.device)\n",
        "\n",
        "    def define_network(self):\n",
        "        self.conv1 = torch.conv2d(self.in_dim, self.num_channel)\n",
        "        self.con2 = torch.conv2d(self.num_channel, self.num_channel) \n",
        "\n",
        "    def forward(self):\n",
        "        pass\n",
        "\n",
        "    def optimize(self):\n",
        "        pass"
      ],
      "execution_count": 0,
      "outputs": []
    },
    {
      "cell_type": "code",
      "metadata": {
        "id": "zEFWYssOd1bg",
        "colab_type": "code",
        "colab": {
          "base_uri": "https://localhost:8080/",
          "height": 35
        },
        "outputId": "b8792055-9aa1-497f-ac57-3fe7523cc0c0"
      },
      "source": [
        "8%3"
      ],
      "execution_count": 31,
      "outputs": [
        {
          "output_type": "execute_result",
          "data": {
            "text/plain": [
              "2"
            ]
          },
          "metadata": {
            "tags": []
          },
          "execution_count": 31
        }
      ]
    }
  ]
}