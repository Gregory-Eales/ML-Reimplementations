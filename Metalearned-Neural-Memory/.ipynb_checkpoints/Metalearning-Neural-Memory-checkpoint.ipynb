{
 "cells": [
  {
   "cell_type": "markdown",
   "metadata": {},
   "source": [
    "# Metalearned Neural Memory\n",
    "\n",
    "<img src=\"img/MNM.png\" width=\"400\" />"
   ]
  },
  {
   "cell_type": "code",
   "execution_count": 2,
   "metadata": {
    "ExecuteTime": {
     "end_time": "2020-08-28T12:12:22.916579Z",
     "start_time": "2020-08-28T12:12:20.285195Z"
    }
   },
   "outputs": [],
   "source": [
    "import numpy as np\n",
    "import torch\n",
    "from matplotlib import pyplot as plt\n",
    "%matplotlib inline"
   ]
  },
  {
   "cell_type": "code",
   "execution_count": null,
   "metadata": {},
   "outputs": [],
   "source": [
    "# define model controller\n",
    "class Controller(torch.nn.Module):\n",
    "    \n",
    "    '''\n",
    "    The controller uses an LSTM architecture\n",
    "    '''\n",
    "    \n",
    "    def __init__(self):\n",
    "        \n",
    "        pass"
   ]
  },
  {
   "cell_type": "code",
   "execution_count": null,
   "metadata": {
    "ExecuteTime": {
     "end_time": "2020-08-28T12:30:23.151771Z",
     "start_time": "2020-08-28T12:30:22.811085Z"
    }
   },
   "outputs": [],
   "source": [
    "# define memory function\n",
    "\n",
    "class MemoryFunction(torch.nn.Module):\n",
    "    \n",
    "    def __init__(self):\n",
    "        pass"
   ]
  },
  {
   "cell_type": "code",
   "execution_count": null,
   "metadata": {},
   "outputs": [],
   "source": [
    "# define metalearned neural memory module\n",
    "class MNM(torch.nn.Module):\n",
    "    \n",
    "    def __init__(self):\n",
    "        \n",
    "        self.controller = Controller()\n",
    "        self.memory_function = MemoryFunction()\n",
    "        \n",
    "    def forward(self):\n",
    "        pass\n",
    "    \n",
    "    def optimize(self):\n",
    "        pass"
   ]
  },
  {
   "cell_type": "code",
   "execution_count": null,
   "metadata": {},
   "outputs": [],
   "source": [
    "# define synthetic dictionary inference task\n",
    "class SDIT(torch.utils.data.Dataset):\n",
    "    \n",
    "    \"\"\"Synthetic Dictionary Inference Task\"\"\"\n",
    "\n",
    "    def __init__(self):\n",
    "        self.generate_data()\n",
    "        \n",
    "        self.alphabet = [\"abcdefghijklmnopqrstuvwxyz\"]\n",
    "    \n",
    "    def generate_data(self):\n",
    "        pass\n",
    "\n",
    "    def __len__(self):\n",
    "        return len(self.landmarks_frame)\n",
    "\n",
    "    def __getitem__(self, idx):\n",
    "        if torch.is_tensor(idx):\n",
    "            idx = idx.tolist()\n",
    "\n",
    "        return sample"
   ]
  }
 ],
 "metadata": {
  "kernelspec": {
   "display_name": "Python 3",
   "language": "python",
   "name": "python3"
  },
  "language_info": {
   "codemirror_mode": {
    "name": "ipython",
    "version": 3
   },
   "file_extension": ".py",
   "mimetype": "text/x-python",
   "name": "python",
   "nbconvert_exporter": "python",
   "pygments_lexer": "ipython3",
   "version": "3.6.8"
  }
 },
 "nbformat": 4,
 "nbformat_minor": 2
}
