{
 "cells": [
  {
   "cell_type": "markdown",
   "metadata": {},
   "source": [
    "# Metalearned Neural Memory\n",
    "\n",
    "<img src=\"img/MNM.png\" width=\"400\" />"
   ]
  },
  {
   "cell_type": "code",
   "execution_count": 2,
   "metadata": {
    "ExecuteTime": {
     "end_time": "2020-08-28T12:12:22.916579Z",
     "start_time": "2020-08-28T12:12:20.285195Z"
    }
   },
   "outputs": [],
   "source": [
    "import numpy as np\n",
    "import torch\n",
    "from matplotlib import pyplot as plt\n",
    "%matplotlib inline"
   ]
  },
  {
   "cell_type": "code",
   "execution_count": null,
   "metadata": {},
   "outputs": [],
   "source": [
    "# define model controller\n",
    "class Controller(torch.nn.Module):\n",
    "    \n",
    "    '''\n",
    "    The controller uses an LSTM architecture\n",
    "    '''\n",
    "    \n",
    "    def __init__(self):\n",
    "        \n",
    "        self.lstm = torch.nn.LSTM(\n",
    "            input_size=10,\n",
    "            hidden_size=10,\n",
    "            num_layers = 2\n",
    "        )\n",
    "    \n",
    "    def forward(self, x, v_r):\n",
    "        \n",
    "        \"\"\"\n",
    "        input:\n",
    "            p_r - prev read value from memory function\n",
    "            x - next input\n",
    "            \n",
    "        output:\n",
    "            beta - weight to decide size of memory update\n",
    "            v_w - value that the memory function learns\n",
    "            k_r - key used to read from the memory function\n",
    "            k_w  - key used to write to the memory function\n",
    "        \"\"\"\n",
    "        \n",
    "        return None"
   ]
  },
  {
   "cell_type": "code",
   "execution_count": null,
   "metadata": {
    "ExecuteTime": {
     "end_time": "2020-08-28T12:30:23.151771Z",
     "start_time": "2020-08-28T12:30:22.811085Z"
    }
   },
   "outputs": [],
   "source": [
    "# define memory function\n",
    "\n",
    "class MemoryFunction(torch.nn.Module):\n",
    "    \n",
    "    def __init__(self):\n",
    "        \n",
    "        self.optimizer = torch.optim.Adam(self.parameters(), lr=1e-3)\n",
    "    \n",
    "    def forward(self, k_r, k_w):\n",
    "        \n",
    "        \"\"\"\n",
    "        input: \n",
    "            k_r - read key given to read from memory function\n",
    "            k_w - write key given to write to the memory function\n",
    "            \n",
    "        output:\n",
    "            \n",
    "            v_w - write value returned as to update the network via back prop\n",
    "            v_r - value to be passed for output\n",
    "        \"\"\"\n",
    "        \n",
    "        return v_w, v_r"
   ]
  },
  {
   "cell_type": "code",
   "execution_count": null,
   "metadata": {},
   "outputs": [],
   "source": [
    "# define metalearned neural memory module\n",
    "class MNM(torch.nn.Module):\n",
    "    \n",
    "    def __init__(self):\n",
    "        \n",
    "        self.controller = Controller()\n",
    "        self.memory_function = MemoryFunction()\n",
    "        \n",
    "    def forward(self):\n",
    "        \n",
    "        # pass parameters\n",
    "        \n",
    "        #\n",
    "    \n",
    "    def optimize(self):\n",
    "        pass"
   ]
  },
  {
   "cell_type": "code",
   "execution_count": null,
   "metadata": {},
   "outputs": [],
   "source": [
    "# define synthetic dictionary inference task\n",
    "class SDIT(torch.utils.data.Dataset):\n",
    "    \n",
    "    \"\"\"Synthetic Dictionary Inference Task\"\"\"\n",
    "\n",
    "    def __init__(self, num_sequences=1000):\n",
    "        self.alphabet = [\"abcdefghijklmnopqrstuvwxyz\"]\n",
    "        self.generate_data(num_sequences)\n",
    "    \n",
    "    def generate_data(self, num_sequences):\n",
    "        \n",
    "        self.partitioned_alphabet = self.partition_alphabet()\n",
    "        self.mappings = self.generate_mappings()\n",
    "        self.sample_sequences = self.generate_sample_sequences(num_sequences)\n",
    "        \n",
    "    def partition_alphabet(self):\n",
    "        pass\n",
    "    \n",
    "    def generate_mappings(self):\n",
    "        pass\n",
    "    \n",
    "    def generate_sample_sequences(self, num_sequences):\n",
    "        pass\n",
    "\n",
    "    def __len__(self):\n",
    "        return len(self.sample_sequences)\n",
    "\n",
    "    def __getitem__(self, idx):\n",
    "        if torch.is_tensor(idx):\n",
    "            idx = idx.tolist()\n",
    "        \n",
    "        return self.sample_sequences[idx]"
   ]
  }
 ],
 "metadata": {
  "kernelspec": {
   "display_name": "Python 3",
   "language": "python",
   "name": "python3"
  },
  "language_info": {
   "codemirror_mode": {
    "name": "ipython",
    "version": 3
   },
   "file_extension": ".py",
   "mimetype": "text/x-python",
   "name": "python",
   "nbconvert_exporter": "python",
   "pygments_lexer": "ipython3",
   "version": "3.6.8"
  }
 },
 "nbformat": 4,
 "nbformat_minor": 2
}
